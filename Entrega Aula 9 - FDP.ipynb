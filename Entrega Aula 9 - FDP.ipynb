{
 "cells": [
  {
   "cell_type": "markdown",
   "metadata": {},
   "source": [
    "## Gabriel França e Felipe Buniac\n",
    "### Distribuiçao Tipo Normal"
   ]
  },
  {
   "cell_type": "markdown",
   "metadata": {},
   "source": [
    "2) Há outros modelos probabilísticos contínuos:\n",
    "\n",
    "* Uniforme\n",
    "* Normal\n",
    "* Gamma\n",
    "* t-Student\n",
    "* LogNormal\n",
    "* Beta\n",
    "* F-Snedecor\n",
    "\n",
    "\n",
    "Cada grupo de alunos deve ficar com uma distribuição e deve realizar as seguintes atividades (**num IPython Notebook à parte**, que deve ser publicado no **Github** e ter seu link divulgado para a sala até 24/9):\n",
    "\n",
    "\n",
    "2.1. Gere um plot da densidade de probabilidade da distribuição e de sua cumulativa. Descubra como usando o pacote scipy.stats\n",
    "\n",
    "2.2. Qual a forma analítica (expressão) da distribuição?\n",
    "\n",
    "2.3. Quais parâmetros descrevem a distribuição?\n",
    "\n",
    "2.4. Existe uma fórmula específica para calcular esperança (média) e variáncia em função dos parâmetros?\n",
    "\n",
    "2.5. Que tipo de aplicações tem esta distribuição? Em que tipo de dados é normalmente encontrada?\n",
    "\n",
    "2.6. Essa distribuição é útil para a inferência estatística? (Os Capítulos 7 e 8 do Magalhães darão uma idéia de se sim ou não)\n"
   ]
  },
  {
   "cell_type": "code",
   "execution_count": 5,
   "metadata": {
    "collapsed": false
   },
   "outputs": [
    {
     "name": "stdout",
     "output_type": "stream",
     "text": [
      "0.0\n",
      "1.0\n"
     ]
    },
    {
     "data": {
      "text/plain": [
       "[<matplotlib.lines.Line2D at 0x1095709e8>]"
      ]
     },
     "execution_count": 5,
     "metadata": {},
     "output_type": "execute_result"
    },
    {
     "data": {
      "image/png": "[encoded data removed]",
      "text/plain": [
       "<matplotlib.figure.Figure at 0x10915dcc0>"
      ]
     },
     "metadata": {},
     "output_type": "display_data"
    }
   ],
   "source": [
    "%matplotlib inline\n",
    "\n",
    "import os\n",
    "import matplotlib.pyplot as plt\n",
    "import pandas as pd\n",
    "from scipy.stats import norm\n",
    "import numpy as np\n",
    "\n",
    "s = 0\n",
    "mean, var, skew, kurt = norm.stats(s, moments='mvsk')\n",
    "print(mean)\n",
    "print(var)\n",
    "x = np.linspace(norm.ppf(0.00001, s),norm.ppf(0.99999, s), 100)\n",
    "plt.plot(x, norm.pdf(x, s),'b-', lw=1, alpha=0.6, label='norm pdf')\n",
    "\n",
    "\n"
   ]
  },
  {
   "cell_type": "code",
   "execution_count": 6,
   "metadata": {
    "collapsed": false
   },
   "outputs": [
    {
     "data": {
      "text/plain": [
       "[<matplotlib.lines.Line2D at 0x1095d0dd8>]"
      ]
     },
     "execution_count": 6,
     "metadata": {},
     "output_type": "execute_result"
    },
    {
     "data": {
      "image/png": "[encoded data removed]",
      "text/plain": [
       "<matplotlib.figure.Figure at 0x109326e80>"
      ]
     },
     "metadata": {},
     "output_type": "display_data"
    }
   ],
   "source": [
    "x = np.linspace(norm.ppf(0.00001, s),norm.ppf(0.99999, s), 100)\n",
    "plt.plot(x, norm.cdf(x, s),'m-', lw=1, alpha=0.6, label='norm pdf')\n"
   ]
  },
  {
   "cell_type": "markdown",
   "metadata": {
    "collapsed": true
   },
   "source": [
    "> 2.2 Tendo assumido s=0, ou seja a média dos numeros aleatorios é igual a 0 e sendo a variancia igual a 1, temos o que os estatisticos chamam de Distribuição Normal Padrão. Com isso temos que a expressão da distuibuição como:\n",
    "\n",
    "> $$f(x)=\\frac{1}{\\sqrt{2\\pi a}}^\\frac{x-\\mu }{2\\sigma^2 }$$\n"
   ]
  },
  {
   "cell_type": "markdown",
   "metadata": {
    "collapsed": true
   },
   "source": [
    "> 2.3  Uma distribuição normal é perfeitamente caracterizada por seus parâmetros média  e desvio padrão : N(média,desvio).\n",
    "Para cada par de N há uma distribuição normal diferente.\n",
    "\n"
   ]
  },
  {
   "cell_type": "markdown",
   "metadata": {
    "collapsed": true
   },
   "source": [
    ">2.4. Existe uma fórmula específica para calcular esperança (média) e variáncia em função dos parâmetros?\n",
    "\n",
    "O coeficiente de variação é uma medida da dispersão dos dados, é a razão entre o desvio padrão e a média amostral\n",
    "C = s /x\n",
    "Quando se transforma o desvio padrão em uma fração da média pode-se comparar amostras com desvios-padrão diferentes.\n",
    "\n",
    "Para calcular a Esperanca: \n",
    ">$$ \\frac{1} {\\sigma } {(E(x) - \\mu)} = 0$$\n",
    "\n",
    "Para calcular a Variancia:\n",
    ">$$ \\frac{1} {\\sigma^2} {Var(x)} = 1$$\n",
    "\n",
    "\n",
    "\n",
    "\n",
    "\n",
    "\n"
   ]
  },
  {
   "cell_type": "markdown",
   "metadata": {},
   "source": [
    ">2.5. Que tipo de aplicações tem esta distribuição? Em que tipo de dados é normalmente encontrada?\n",
    "\n",
    "- Costuma representar com boa aproximação as distribuições de freqüências de muitos fenômenos.\n",
    "- Pode ser usada para aproximar uma distribuição binomial com grande valor de n.\n",
    "- As distribuições de médias e proporções de uma variável em grandes amostras tendem a seguir uma distribuição normal."
   ]
  },
  {
   "cell_type": "markdown",
   "metadata": {},
   "source": [
    ">2.6. Essa distribuição é útil para a inferência estatística? (Os Capítulos 7 e 8 do Magalhães darão uma idéia de se sim ou não)\n",
    "\n",
    "A distribuição normal de probabilidade é uma distribuição de probabilidade contínua que é simétrica. A curva que representa a distribuição normal de probabilidade é freqüentemente descrita como tendo uma forma de sino e é também conhecida como curva de Gauss.\n",
    "\n",
    "A distribuição de probabilidade normal é importante na inferência estatística por três razões distintas:\n",
    "\n",
    "- As medidas produzidas em diversos processos aleatórios seguem esta distribuição;\n",
    "\n",
    "- Probabilidades normais podem ser usadas freqüentemente como aproximações de outras distribuições de probabilidade, tais como a binomial e a de Poisson;\n",
    "\n",
    "- As distribuições de estatísticas da amostra, tais como a média e a proporção, freqüentemente seguem a distribuição normal independentemente da distribuição da população.\n",
    "\n",
    "Como para qualquer distribuição contínua de probabilidade, o valor da probabilidade pode somente ser determinado para um intervalo de valores da variável.\n",
    "\n",
    "Portanto a normal é uma das mais importantes distribuições de probabilidades, sendo aplicada em inumeros fenomenos e constantes utilizada para o desenvolvimento de inferência estatíca."
   ]
  }
 ],
 "metadata": {
  "kernelspec": {
   "display_name": "Python 3",
   "language": "python",
   "name": "python3"
  },
  "language_info": {
   "codemirror_mode": {
    "name": "ipython",
    "version": 3
   },
   "file_extension": ".py",
   "mimetype": "text/x-python",
   "name": "python",
   "nbconvert_exporter": "python",
   "pygments_lexer": "ipython3",
   "version": "3.4.3"
  }
 },
 "nbformat": 4,
 "nbformat_minor": 0
}
